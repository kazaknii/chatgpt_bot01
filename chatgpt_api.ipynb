{
  "nbformat": 4,
  "nbformat_minor": 0,
  "metadata": {
    "colab": {
      "provenance": [],
      "include_colab_link": true
    },
    "kernelspec": {
      "name": "python3",
      "display_name": "Python 3"
    },
    "language_info": {
      "name": "python"
    }
  },
  "cells": [
    {
      "cell_type": "markdown",
      "metadata": {
        "id": "view-in-github",
        "colab_type": "text"
      },
      "source": [
        "<a href=\"https://colab.research.google.com/github/kazaknii/chatgpt_bot01/blob/main/chatgpt_api.ipynb\" target=\"_parent\"><img src=\"https://colab.research.google.com/assets/colab-badge.svg\" alt=\"Open In Colab\"/></a>"
      ]
    },
    {
      "cell_type": "markdown",
      "source": [
        "# ChatGPT API入門ガイド（初心者向け）\n",
        "\n",
        "ChatGPT APIを使って、プログラムから簡単に連携しましょう。まずはAPIキーを設定して、ChatGPT APIからのレスポンスを取得してみましょう。※APIの利用は有料になりますので、お支払い情報の登録が必要です。 "
      ],
      "metadata": {
        "id": "NJ0ypAO3Nd9n"
      }
    },
    {
      "cell_type": "markdown",
      "source": [
        "**このガイドを読むとできるようになること：**\n",
        "\n",
        "# **chatGPTをプログラム（python）から呼び出せるようになります**\n",
        "\n"
      ],
      "metadata": {
        "id": "eQF7e7_OE7Gv"
      }
    },
    {
      "cell_type": "markdown",
      "source": [
        "# ライブラリのインストール\n",
        "\n",
        "ChatGPT APIを使用するために必要なライブラリ「openai」をインストールします。"
      ],
      "metadata": {
        "id": "rohh9-kEV-8q"
      }
    },
    {
      "cell_type": "code",
      "execution_count": null,
      "metadata": {
        "id": "Wo66c8k56kai"
      },
      "outputs": [],
      "source": [
        "!pip install openai"
      ]
    },
    {
      "cell_type": "markdown",
      "source": [
        "インストールが完了したら、openaiをインポートします。"
      ],
      "metadata": {
        "id": "yykE6v-ziwa3"
      }
    },
    {
      "cell_type": "code",
      "source": [
        "import openai"
      ],
      "metadata": {
        "id": "ImCUT-lW6k6K"
      },
      "execution_count": null,
      "outputs": []
    },
    {
      "cell_type": "markdown",
      "source": [
        "# APIキーの設定\n",
        "\n",
        "ChatGPT APIを利用するには、「APIキー」の設定が必要です。次のコードの Your API key の部分に、あなたのAPIキーを入れてください。APIキーはOpenAIのウェブサイトから入手できます。\n",
        "\n",
        "https://platform.openai.com/account/api-keys\n",
        "\n",
        "※APIキーは他者に知られないように、慎重に扱ってください。"
      ],
      "metadata": {
        "id": "j03EsJaHh4KK"
      }
    },
    {
      "cell_type": "code",
      "source": [
        "openai.api_key = \"Your API key\""
      ],
      "metadata": {
        "id": "4lkJr3dk89bD"
      },
      "execution_count": null,
      "outputs": []
    },
    {
      "cell_type": "markdown",
      "source": [
        "# PythonからChatGPT APIを呼び出す方法\n",
        "`openai.ChatCompletion.create()`により、ChatGPT APIからのレスポンスを取得します。  \n",
        "その際に、モデルを指定してメッセージを送ります。  \n"
      ],
      "metadata": {
        "id": "jomNHjE3lPAJ"
      }
    },
    {
      "cell_type": "code",
      "source": [
        "# ChatGPT APIからのレスポンスを取得する\n",
        "response = openai.ChatCompletion.create(\n",
        "    model=\"gpt-3.5-turbo\",\n",
        "    messages=[\n",
        "        {\"role\": \"system\", \"content\": \"あなたは優秀なアシスタントAIです。\"},\n",
        "        {\"role\": \"user\", \"content\":\"あなたはどんなことができますか？\"}\n",
        "        ]\n",
        ")\n",
        "\n",
        "# レスポンスの表示\n",
        "print(response['choices'][0]['message']['content'])"
      ],
      "metadata": {
        "id": "nkswVM4r9BBt"
      },
      "execution_count": null,
      "outputs": []
    },
    {
      "cell_type": "markdown",
      "source": [
        "これでChatGPT APIからのレスポンスを取得できました。"
      ],
      "metadata": {
        "id": "B8hdFAd6VIaz"
      }
    },
    {
      "cell_type": "markdown",
      "source": [
        "# プロンプトをカスタマイズしてみる\n",
        "\n",
        "コードの messages 部分を変更することで、異なる質問やタスクをChatGPT APIに送ることができます。これにより、あなたのニーズに合わせた結果を得ることができます。\n",
        "\n",
        "例えば、次のような質問をすることができます。"
      ],
      "metadata": {
        "id": "XqLMPMjmNm9Z"
      }
    },
    {
      "cell_type": "code",
      "source": [
        "# ChatGPT APIからのレスポンスを取得する\n",
        "response = openai.ChatCompletion.create(\n",
        "    model=\"gpt-3.5-turbo\",\n",
        "    messages=[ \n",
        "               {\"role\": \"system\", \"content\": \"あなたは優秀なアシスタントAIです。\"}, \n",
        "               {\"role\": \"user\", \"content\":\"私のために簡単なレシピを提案してください。\"}   \n",
        "               ]\n",
        ")\n",
        "# レスポンスの表示\n",
        "print(response['choices'][0]['message']['content'])\n"
      ],
      "metadata": {
        "id": "jOxnUsi5N0cS"
      },
      "execution_count": null,
      "outputs": []
    },
    {
      "cell_type": "markdown",
      "source": [
        "このように、質問やタスクを変更することで、さまざまな情報やアイデアをChatGPT APIから取得できます。独自のプロンプトを試してみて、AIの可能性を探ってみましょう。\n",
        "\n",
        "これで、ChatGPT APIの基本的な使い方が分かりました。これからも、さまざまな状況やニーズに合わせてAPIを活用し、あなたのだけのchatbptを量産することが可能です。"
      ],
      "metadata": {
        "id": "s1Grx5bsOCuY"
      }
    }
  ]
}