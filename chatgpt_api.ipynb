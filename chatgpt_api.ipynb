{
  "nbformat": 4,
  "nbformat_minor": 0,
  "metadata": {
    "colab": {
      "provenance": [],
      "include_colab_link": true
    },
    "kernelspec": {
      "name": "python3",
      "display_name": "Python 3"
    },
    "language_info": {
      "name": "python"
    }
  },
  "cells": [
    {
      "cell_type": "markdown",
      "metadata": {
        "id": "view-in-github",
        "colab_type": "text"
      },
      "source": [
        "<a href=\"https://colab.research.google.com/github/kazaknii/chatgpt_bot01/blob/main/chatgpt_api.ipynb\" target=\"_parent\"><img src=\"https://colab.research.google.com/assets/colab-badge.svg\" alt=\"Open In Colab\"/></a>"
      ]
    },
    {
      "cell_type": "markdown",
      "source": [
        "# ChatGPT API入門ガイド（初心者向け）\n",
        "\n",
        "ChatGPT APIを使ってプログラムからAIとやりとりする方法を解説します。"
      ],
      "metadata": {
        "id": "NJ0ypAO3Nd9n"
      }
    },
    {
      "cell_type": "markdown",
      "source": [
        "**今回のゴール：**\n",
        "\n",
        "# 「ChatGPTをAPIを使ってPythonから呼び出せるようになる」\n",
        "\n",
        "簡単な内容ですがプログラム初心者にとっては大きな一歩です。難しそうだと思っていたけど実は全然大したことない、ということを実感してもらえれば幸いです。\n",
        "\n",
        "**事前準備：**\n",
        "\n",
        "* Googleアカウントの取得\n",
        "* Google Colabへのアクセス設定\n",
        "* OpenAIのアカウント登録\n",
        "* ChatGPT APIキーの取得\n",
        "\n",
        "※以上を事前に完了させてから進んでください。"
      ],
      "metadata": {
        "id": "eQF7e7_OE7Gv"
      }
    },
    {
      "cell_type": "markdown",
      "source": [
        "# **1. 環境設定**"
      ],
      "metadata": {
        "id": "cN6X63QZODZR"
      }
    },
    {
      "cell_type": "markdown",
      "source": [
        "## 1-1.ライブラリのインストール\n",
        "\n",
        "ChatGPT APIを使用するために必要なライブラリ「openai」をインストールします。"
      ],
      "metadata": {
        "id": "rohh9-kEV-8q"
      }
    },
    {
      "cell_type": "code",
      "execution_count": null,
      "metadata": {
        "id": "Wo66c8k56kai"
      },
      "outputs": [],
      "source": [
        "!pip install openai"
      ]
    },
    {
      "cell_type": "markdown",
      "source": [
        "インストールが完了したら、openaiをインポートします。"
      ],
      "metadata": {
        "id": "yykE6v-ziwa3"
      }
    },
    {
      "cell_type": "code",
      "source": [
        "import openai"
      ],
      "metadata": {
        "id": "ImCUT-lW6k6K"
      },
      "execution_count": 24,
      "outputs": []
    },
    {
      "cell_type": "markdown",
      "source": [
        "## 1-2.APIキーの設定\n",
        "\n",
        "ChatGPT APIを利用するには、「APIキー」の設定が必要です。次のコードの Your API key の部分に、あなたのAPIキーを入れてください。APIキーはOpenAIのウェブサイトから入手できます。\n",
        "\n",
        "https://platform.openai.com/account/api-keys\n",
        "\n",
        "※APIキーは他者に見せないようにご注意ください。"
      ],
      "metadata": {
        "id": "j03EsJaHh4KK"
      }
    },
    {
      "cell_type": "code",
      "source": [
        "openai.api_key = \"Your API key\""
      ],
      "metadata": {
        "id": "4lkJr3dk89bD"
      },
      "execution_count": 25,
      "outputs": []
    },
    {
      "cell_type": "markdown",
      "source": [
        "以上で環境設定は完了です。"
      ],
      "metadata": {
        "id": "ZmGZPekO5Ncs"
      }
    },
    {
      "cell_type": "markdown",
      "source": [
        "# **2. PythonからChatGPT APIを呼び出すコード**\n",
        "`openai.ChatCompletion.create()`により、ChatGPT APIからのレスポンスを取得します。  \n",
        "その際に、モデルを指定してメッセージを送ります。  \n"
      ],
      "metadata": {
        "id": "jomNHjE3lPAJ"
      }
    },
    {
      "cell_type": "code",
      "source": [
        "# ChatGPT APIからのレスポンスを取得する\n",
        "response = openai.ChatCompletion.create(\n",
        "    model=\"gpt-3.5-turbo\",\n",
        "    messages=[\n",
        "        {\"role\": \"system\", \"content\": \"あなたは料理に精通したアシスタントAIです。\"},\n",
        "        {\"role\": \"user\", \"content\":\"オムレツの作り方を教えてください。\"}\n",
        "        ]\n",
        ")\n",
        "\n",
        "# レスポンスの表示\n",
        "print(response['choices'][0]['message']['content'])"
      ],
      "metadata": {
        "id": "nkswVM4r9BBt"
      },
      "execution_count": null,
      "outputs": []
    },
    {
      "cell_type": "markdown",
      "source": [
        "# **3. まとめ**\n",
        "\n",
        "以上でgoogle colab上でChatGPT APIからのレスポンスを取得することができました。\n",
        "\n",
        "次回はこちらをwebアプリとして仕上げていきたいと思います。"
      ],
      "metadata": {
        "id": "B8hdFAd6VIaz"
      }
    }
  ]
}