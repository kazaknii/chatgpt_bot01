{
  "nbformat": 4,
  "nbformat_minor": 0,
  "metadata": {
    "colab": {
      "provenance": [],
      "include_colab_link": true
    },
    "kernelspec": {
      "name": "python3",
      "display_name": "Python 3"
    },
    "language_info": {
      "name": "python"
    }
  },
  "cells": [
    {
      "cell_type": "markdown",
      "metadata": {
        "id": "view-in-github",
        "colab_type": "text"
      },
      "source": [
        "<a href=\"https://colab.research.google.com/github/kazaknii/chatgpt_bot01/blob/main/chatgpt_api.ipynb\" target=\"_parent\"><img src=\"https://colab.research.google.com/assets/colab-badge.svg\" alt=\"Open In Colab\"/></a>"
      ]
    },
    {
      "cell_type": "markdown",
      "source": [
        "# ChatGPT API入門ガイド（初心者向け）\n",
        "\n",
        "ChatGPT APIを使って、プログラムから簡単に連携しましょう。\n",
        "\n",
        "まずはAPIキーを設定して、ChatGPT APIからのレスポンスを取得してみましょう。"
      ],
      "metadata": {
        "id": "NJ0ypAO3Nd9n"
      }
    },
    {
      "cell_type": "markdown",
      "source": [
        "**この記事のゴール：**\n",
        "\n",
        "# 「chatGPTをプログラム（python）から呼び出せるようになります」\n",
        "\n",
        "始める前に、以下の準備が必要です：\n",
        "\n",
        "* Googleアカウントの取得\n",
        "* Google Colabへのアクセス設定\n",
        "* OpenAIのアカウント登録\n",
        "* ChatGPT APIキーの取得\n",
        "\n",
        "※事前に完了させてから、ガイドに進んでください。各詳細手順は別記事にまとめます。"
      ],
      "metadata": {
        "id": "eQF7e7_OE7Gv"
      }
    },
    {
      "cell_type": "markdown",
      "source": [
        "# 1.ライブラリのインストール\n",
        "\n",
        "ChatGPT APIを使用するために必要なライブラリ「openai」をインストールします。"
      ],
      "metadata": {
        "id": "rohh9-kEV-8q"
      }
    },
    {
      "cell_type": "code",
      "execution_count": null,
      "metadata": {
        "id": "Wo66c8k56kai"
      },
      "outputs": [],
      "source": [
        "!pip install openai"
      ]
    },
    {
      "cell_type": "markdown",
      "source": [
        "インストールが完了したら、openaiをインポートします。"
      ],
      "metadata": {
        "id": "yykE6v-ziwa3"
      }
    },
    {
      "cell_type": "code",
      "source": [
        "import openai"
      ],
      "metadata": {
        "id": "ImCUT-lW6k6K"
      },
      "execution_count": null,
      "outputs": []
    },
    {
      "cell_type": "markdown",
      "source": [
        "# 2.APIキーの設定\n",
        "\n",
        "ChatGPT APIを利用するには、「APIキー」の設定が必要です。次のコードの Your API key の部分に、あなたのAPIキーを入れてください。APIキーはOpenAIのウェブサイトから入手できます。\n",
        "\n",
        "https://platform.openai.com/account/api-keys"
      ],
      "metadata": {
        "id": "j03EsJaHh4KK"
      }
    },
    {
      "cell_type": "code",
      "source": [
        "openai.api_key = \"Your API key\""
      ],
      "metadata": {
        "id": "4lkJr3dk89bD"
      },
      "execution_count": null,
      "outputs": []
    },
    {
      "cell_type": "markdown",
      "source": [
        "# 3.PythonからChatGPT APIを呼び出す\n",
        "`openai.ChatCompletion.create()`により、ChatGPT APIからのレスポンスを取得します。  \n",
        "その際に、モデルを指定してメッセージを送ります。  \n"
      ],
      "metadata": {
        "id": "jomNHjE3lPAJ"
      }
    },
    {
      "cell_type": "code",
      "source": [
        "# ChatGPT APIからのレスポンスを取得する\n",
        "response = openai.ChatCompletion.create(\n",
        "    model=\"gpt-3.5-turbo\",\n",
        "    messages=[\n",
        "        {\"role\": \"system\", \"content\": \"あなたは優秀なアシスタントAIです。\"},\n",
        "        {\"role\": \"user\", \"content\":\"あなたはどんなことができますか？\"}\n",
        "        ]\n",
        ")\n",
        "\n",
        "# レスポンスの表示\n",
        "print(response['choices'][0]['message']['content'])"
      ],
      "metadata": {
        "id": "nkswVM4r9BBt"
      },
      "execution_count": null,
      "outputs": []
    },
    {
      "cell_type": "markdown",
      "source": [
        "# 4.まとめ\n",
        "\n",
        "まずはgoogle colab上でChatGPT APIからのレスポンスを取得できました。\n",
        "\n",
        "次回は実際にwebアプリとして動作するように仕上げていきますので、あなただけのアプリを量産できるようになります！"
      ],
      "metadata": {
        "id": "B8hdFAd6VIaz"
      }
    }
  ]
}